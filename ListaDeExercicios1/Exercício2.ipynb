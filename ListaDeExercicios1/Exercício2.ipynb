{
  "nbformat": 4,
  "nbformat_minor": 0,
  "metadata": {
    "colab": {
      "provenance": [],
      "authorship_tag": "ABX9TyOcisHFPIYgrqbDd5zPEs5B",
      "include_colab_link": true
    },
    "kernelspec": {
      "name": "python3",
      "display_name": "Python 3"
    },
    "language_info": {
      "name": "python"
    }
  },
  "cells": [
    {
      "cell_type": "markdown",
      "metadata": {
        "id": "view-in-github",
        "colab_type": "text"
      },
      "source": [
        "<a href=\"https://colab.research.google.com/github/Lucas-Souza21/TP547-LucasSSouza/blob/main/ListaDeExercicios1/Exerc%C3%ADcio2.ipynb\" target=\"_parent\"><img src=\"https://colab.research.google.com/assets/colab-badge.svg\" alt=\"Open In Colab\"/></a>"
      ]
    },
    {
      "cell_type": "code",
      "execution_count": 1,
      "metadata": {
        "colab": {
          "base_uri": "https://localhost:8080/"
        },
        "id": "5fPIw6x_9c3Y",
        "outputId": "06c0a0af-c9d3-4ece-a06d-fceaa51a8d52"
      },
      "outputs": [
        {
          "output_type": "stream",
          "name": "stdout",
          "text": [
            "Requirement already satisfied: numpy in /usr/local/lib/python3.10/dist-packages (1.25.2)\n"
          ]
        }
      ],
      "source": [
        "!pip install numpy"
      ]
    },
    {
      "cell_type": "markdown",
      "source": [
        "Inicialização das Variáveis"
      ],
      "metadata": {
        "id": "REywvgaY_T8-"
      }
    },
    {
      "cell_type": "code",
      "source": [
        "import numpy as np\n",
        "\n",
        "lambda1=6 #Número médio de requisições\n",
        "N=100000 #Numero de amostras\n",
        "av=np.array([])\n",
        "x = np.random.uniform(0,1,N)"
      ],
      "metadata": {
        "id": "25umBRah94OQ"
      },
      "execution_count": 4,
      "outputs": []
    },
    {
      "cell_type": "markdown",
      "source": [
        "Questão A"
      ],
      "metadata": {
        "id": "ftTj2NJD_l4A"
      }
    },
    {
      "cell_type": "code",
      "source": [
        "value = 0\n",
        "count = 0\n",
        "\n",
        "for ix in x:\n",
        "  pr = np.exp(-lambda1)\n",
        "  F = pr\n",
        "  i = 0\n",
        "  while ix>=F:\n",
        "    pr = lambda1/(i+1)*pr\n",
        "    F = F + pr\n",
        "    i = i + 1;\n",
        "  av = np.append(av,i)\n",
        "  if i == value:\n",
        "    count = count + 1\n",
        "print(count/N)"
      ],
      "metadata": {
        "colab": {
          "base_uri": "https://localhost:8080/"
        },
        "id": "lOP2N_q9AAC4",
        "outputId": "ae38db3b-3785-438a-db2f-c18aeabd01d5"
      },
      "execution_count": 6,
      "outputs": [
        {
          "output_type": "stream",
          "name": "stdout",
          "text": [
            "0.00262\n"
          ]
        }
      ]
    },
    {
      "cell_type": "code",
      "source": [
        "Questão B"
      ],
      "metadata": {
        "id": "lhBtwZUzBMhY"
      },
      "execution_count": null,
      "outputs": []
    },
    {
      "cell_type": "code",
      "source": [
        "value = 8\n",
        "count = 0\n",
        "\n",
        "for ix in x:\n",
        "  pr = np.exp(-lambda1)\n",
        "  F = pr\n",
        "  i = 0\n",
        "  while ix>=F:\n",
        "    pr = lambda1/(i+1)*pr\n",
        "    F = F + pr\n",
        "    i = i + 1;\n",
        "  av = np.append(av,i)\n",
        "  if i < value:\n",
        "    count = count + 1\n",
        "print(count/N)"
      ],
      "metadata": {
        "colab": {
          "base_uri": "https://localhost:8080/"
        },
        "id": "W7JG3MvhBPBn",
        "outputId": "d062f027-6a57-4a7c-c257-72d20ac148ec"
      },
      "execution_count": 7,
      "outputs": [
        {
          "output_type": "stream",
          "name": "stdout",
          "text": [
            "0.74488\n"
          ]
        }
      ]
    }
  ]
}