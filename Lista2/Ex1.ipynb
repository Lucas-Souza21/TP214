{
  "nbformat": 4,
  "nbformat_minor": 0,
  "metadata": {
    "colab": {
      "provenance": [],
      "authorship_tag": "ABX9TyPogPBHPKsVz88DM9ISBs9r",
      "include_colab_link": true
    },
    "kernelspec": {
      "name": "python3",
      "display_name": "Python 3"
    },
    "language_info": {
      "name": "python"
    }
  },
  "cells": [
    {
      "cell_type": "markdown",
      "metadata": {
        "id": "view-in-github",
        "colab_type": "text"
      },
      "source": [
        "<a href=\"https://colab.research.google.com/github/Lucas-Souza21/TP547-LucasSSouza/blob/main/Lista2/Ex1.ipynb\" target=\"_parent\"><img src=\"https://colab.research.google.com/assets/colab-badge.svg\" alt=\"Open In Colab\"/></a>"
      ]
    },
    {
      "cell_type": "code",
      "execution_count": 1,
      "metadata": {
        "colab": {
          "base_uri": "https://localhost:8080/"
        },
        "id": "P82b-KwB5OLp",
        "outputId": "169b8328-9148-44dd-cbe6-b1b2f1f79fce"
      },
      "outputs": [
        {
          "output_type": "stream",
          "name": "stdout",
          "text": [
            "Requirement already satisfied: numpy in /usr/local/lib/python3.10/dist-packages (1.25.2)\n",
            "Requirement already satisfied: matplotlib in /usr/local/lib/python3.10/dist-packages (3.7.1)\n",
            "Requirement already satisfied: contourpy>=1.0.1 in /usr/local/lib/python3.10/dist-packages (from matplotlib) (1.2.1)\n",
            "Requirement already satisfied: cycler>=0.10 in /usr/local/lib/python3.10/dist-packages (from matplotlib) (0.12.1)\n",
            "Requirement already satisfied: fonttools>=4.22.0 in /usr/local/lib/python3.10/dist-packages (from matplotlib) (4.51.0)\n",
            "Requirement already satisfied: kiwisolver>=1.0.1 in /usr/local/lib/python3.10/dist-packages (from matplotlib) (1.4.5)\n",
            "Requirement already satisfied: numpy>=1.20 in /usr/local/lib/python3.10/dist-packages (from matplotlib) (1.25.2)\n",
            "Requirement already satisfied: packaging>=20.0 in /usr/local/lib/python3.10/dist-packages (from matplotlib) (24.0)\n",
            "Requirement already satisfied: pillow>=6.2.0 in /usr/local/lib/python3.10/dist-packages (from matplotlib) (9.4.0)\n",
            "Requirement already satisfied: pyparsing>=2.3.1 in /usr/local/lib/python3.10/dist-packages (from matplotlib) (3.1.2)\n",
            "Requirement already satisfied: python-dateutil>=2.7 in /usr/local/lib/python3.10/dist-packages (from matplotlib) (2.8.2)\n",
            "Requirement already satisfied: six>=1.5 in /usr/local/lib/python3.10/dist-packages (from python-dateutil>=2.7->matplotlib) (1.16.0)\n",
            "Requirement already satisfied: scipy in /usr/local/lib/python3.10/dist-packages (1.11.4)\n",
            "Requirement already satisfied: numpy<1.28.0,>=1.21.6 in /usr/local/lib/python3.10/dist-packages (from scipy) (1.25.2)\n"
          ]
        }
      ],
      "source": [
        "!pip install numpy\n",
        "!pip install matplotlib\n",
        "!pip install scipy"
      ]
    },
    {
      "cell_type": "code",
      "source": [
        "import numpy as np\n",
        "import matplotlib.pyplot as plt\n",
        "from scipy.special import factorial\n",
        "import random\n",
        "\n",
        "#Sem retornar a bola para a caixa\n",
        "\n",
        "rep = 100000 #Repetições\n",
        "sucesso = 0 #Inicializando o contator de sucessos\n",
        "\n",
        "for _ in range(rep):\n",
        "  bolas = ['vermelha'] * 10 + ['azul'] * 10 + ['amarela'] * 10 + ['roxa'] * 10 #Definindo as bolas\n",
        "  bolas_selecionadas = [] #Definindo espaço Inicial\n",
        "  for _ in range(10): #10 Retiradas\n",
        "    selecionada = random.choice(bolas) #Escolha da bola\n",
        "    bolas_selecionadas.append(selecionada) #adicionando a bola escolhida ao grupo\n",
        "    bolas.remove (selecionada) #removendo bola escolhida\n",
        "\n",
        "  if bolas_selecionadas.count('azul') == 2 and bolas_selecionadas.count('roxa') == 2:\n",
        "    sucesso = sucesso + 1\n",
        "\n",
        "probabilidade = sucesso/rep\n",
        "\n",
        "\n",
        "print (\"A probabilidade de obter duas bolas azuis e duas bolas roxas é:\", probabilidade)\n"
      ],
      "metadata": {
        "colab": {
          "base_uri": "https://localhost:8080/"
        },
        "id": "94nyMNsb5uVT",
        "outputId": "ce3da1fa-ef67-4996-b8d5-a6015df12507"
      },
      "execution_count": 7,
      "outputs": [
        {
          "output_type": "stream",
          "name": "stdout",
          "text": [
            "A probabilidade de obter duas bolas azuis e duas bolas roxas é: 0.09274\n"
          ]
        }
      ]
    },
    {
      "cell_type": "code",
      "source": [
        "import numpy as np\n",
        "import matplotlib.pyplot as plt\n",
        "from scipy.special import factorial\n",
        "import random\n",
        "\n",
        "#Retornando a bola para a caixa\n",
        "\n",
        "rep = 100000 #Repetições\n",
        "sucesso = 0 #Inicializando o contator de sucessos\n",
        "\n",
        "for _ in range(rep):\n",
        "  bolas = ['vermelha'] * 10 + ['azul'] * 10 + ['amarela'] * 10 + ['roxa'] * 10 #Definindo as bolas\n",
        "  bolas_selecionadas = [] #Definindo espaço Inicial\n",
        "  for _ in range(10): #10 Retiradas\n",
        "    selecionada = random.choice(bolas) #Escolha da bola\n",
        "    bolas_selecionadas.append(selecionada) #Adicionando bola escolhinda ao grupo\n",
        "    #bolas.remove (selecionada) - Remover a retirada da bola\n",
        "\n",
        "  if bolas_selecionadas.count('azul') == 2 and bolas_selecionadas.count('roxa') == 2:\n",
        "    sucesso = sucesso + 1\n",
        "\n",
        "probabilidade = sucesso/rep\n",
        "\n",
        "\n",
        "print (\"A probabilidade de obter duas bolas azuis e duas bolas roxas é:\", probabilidade)\n"
      ],
      "metadata": {
        "colab": {
          "base_uri": "https://localhost:8080/"
        },
        "id": "cG5iunWtoZLY",
        "outputId": "d22e94d4-42dd-448d-f323-d44f182bcca9"
      },
      "execution_count": 8,
      "outputs": [
        {
          "output_type": "stream",
          "name": "stdout",
          "text": [
            "A probabilidade de obter duas bolas azuis e duas bolas roxas é: 0.07808\n"
          ]
        }
      ]
    }
  ]
}