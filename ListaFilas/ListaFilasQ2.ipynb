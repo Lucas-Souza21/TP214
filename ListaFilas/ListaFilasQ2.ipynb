{
  "nbformat": 4,
  "nbformat_minor": 0,
  "metadata": {
    "colab": {
      "provenance": [],
      "authorship_tag": "ABX9TyOsaUrakZiKtzSRySQCvJfm",
      "include_colab_link": true
    },
    "kernelspec": {
      "name": "python3",
      "display_name": "Python 3"
    },
    "language_info": {
      "name": "python"
    }
  },
  "cells": [
    {
      "cell_type": "markdown",
      "metadata": {
        "id": "view-in-github",
        "colab_type": "text"
      },
      "source": [
        "<a href=\"https://colab.research.google.com/github/Lucas-Souza21/TP547-LucasSSouza/blob/main/ListaFilas/ListaFilasQ2.ipynb\" target=\"_parent\"><img src=\"https://colab.research.google.com/assets/colab-badge.svg\" alt=\"Open In Colab\"/></a>"
      ]
    },
    {
      "cell_type": "code",
      "execution_count": null,
      "metadata": {
        "colab": {
          "base_uri": "https://localhost:8080/"
        },
        "id": "zjA2o2eSaKLU",
        "outputId": "995848e4-7eee-4f4a-e7c2-c35371354cbc"
      },
      "outputs": [
        {
          "output_type": "stream",
          "name": "stdout",
          "text": [
            "Requirement already satisfied: numpy in /usr/local/lib/python3.10/dist-packages (1.25.2)\n",
            "Requirement already satisfied: matplotlib in /usr/local/lib/python3.10/dist-packages (3.7.1)\n",
            "Requirement already satisfied: contourpy>=1.0.1 in /usr/local/lib/python3.10/dist-packages (from matplotlib) (1.2.1)\n",
            "Requirement already satisfied: cycler>=0.10 in /usr/local/lib/python3.10/dist-packages (from matplotlib) (0.12.1)\n",
            "Requirement already satisfied: fonttools>=4.22.0 in /usr/local/lib/python3.10/dist-packages (from matplotlib) (4.53.0)\n",
            "Requirement already satisfied: kiwisolver>=1.0.1 in /usr/local/lib/python3.10/dist-packages (from matplotlib) (1.4.5)\n",
            "Requirement already satisfied: numpy>=1.20 in /usr/local/lib/python3.10/dist-packages (from matplotlib) (1.25.2)\n",
            "Requirement already satisfied: packaging>=20.0 in /usr/local/lib/python3.10/dist-packages (from matplotlib) (24.0)\n",
            "Requirement already satisfied: pillow>=6.2.0 in /usr/local/lib/python3.10/dist-packages (from matplotlib) (9.4.0)\n",
            "Requirement already satisfied: pyparsing>=2.3.1 in /usr/local/lib/python3.10/dist-packages (from matplotlib) (3.1.2)\n",
            "Requirement already satisfied: python-dateutil>=2.7 in /usr/local/lib/python3.10/dist-packages (from matplotlib) (2.8.2)\n",
            "Requirement already satisfied: six>=1.5 in /usr/local/lib/python3.10/dist-packages (from python-dateutil>=2.7->matplotlib) (1.16.0)\n"
          ]
        }
      ],
      "source": [
        "!pip install numpy\n",
        "!pip install matplotlib"
      ]
    },
    {
      "cell_type": "code",
      "source": [
        "import numpy as np\n",
        "import matplotlib.pyplot as plt\n",
        "t = 0 # Tempo inicial\n",
        "lq = 0 # Numero de elementos na fila\n",
        "ls = 1 # Numero de elementos no servidor\n",
        "k1 = 0 # Variavel auxiliar\n",
        "k2 = 0 # Variavel auxiliar\n",
        "k = 0 # Numero de partidas\n",
        "lambda1= 40 # Taxa media de chegada\n",
        "mu1= 100 # Taxa media de partida\n",
        "chegadas = np.random.exponential(1/lambda1,1000000) # Vetor de chegadas\n",
        "\n",
        "partidas = np.random.exponential(1/mu1,1000000) # Vetor de partidas\n",
        "tc = [0] # Tempo de chegadas\n",
        "tp = [] # Tempo de partidas\n",
        "ts = [] # Tempo no sistema\n",
        "\n",
        "ta = t + chegadas[k1] # Proxima chegada\n",
        "td = t + partidas[k2] # Proxima partida\n",
        "t = np.minimum(ta, td) # Proximo tempo de execucao\n",
        "\n",
        "while (t < 5000): # Tempo limite de simulacao\n",
        "\n",
        "    if ta<td: # Evento de chegada\n",
        "        k1 = k1 + 1\n",
        "        ta = [] # Apaga o tempo de chegada atual\n",
        "        if ls == 1: # Servidor ocupado\n",
        "            lq = lq + 1 # Aumenta a fila\n",
        "            ta = t + chegadas[k1] # Gera nova chegada\n",
        "            tc = np.append(tc, t) # Armazena tempo atual de chegada\n",
        "\n",
        "        else: # Servidor desocupado\n",
        "            ls = 1 # Ocupa o servidor\n",
        "            k2 = k2 + 1\n",
        "            td = t + partidas[k2] # Gera nova partida\n",
        "            ta = t + chegadas[k1] # Gera nova chegada\n",
        "            tc = np.append(tc, t) # Armazena tempo atual de chegada\n",
        "\n",
        "\n",
        "    elif ta == td: # Chegada e partida simultanea\n",
        "\n",
        "        tc = np.append(tc, t) # Armazena o tempo atual de chegada\n",
        "        tp = np.append(tp, t) # Armazena o tempo atual de partida\n",
        "\n",
        "        k = k + 1 # Incrementa a partida\n",
        "\n",
        "        ts = np.append(ts,(tp[k-1] - tc[k-1])) # Calcula o tempo no sistema\n",
        "\n",
        "        ta = [] # Apaga os valores atuais de chegada e partida\n",
        "        td = []\n",
        "        k1 = k1 + 1\n",
        "        k2 = k2 + 1\n",
        "        td = t + partidas[k2] # Calcula a proxima partida\n",
        "        ta = t + chegadas[k1] # Calcula a proxima chegada\n",
        "\n",
        "\n",
        "\n",
        "    else: # Evento de partida\n",
        "        td = [] # Apaga o tempo de partida\n",
        "\n",
        "        k = k + 1 # Incrementa o numero de partidas\n",
        "\n",
        "        if lq > 0:# Existem pacotes na fila\n",
        "            tp = np.append(tp, t) # Armazeno o tempo da partida\n",
        "            ts = np.append(ts, (tp[k - 1] - tc[k - 1])) # Calculo o tempo no sistema\n",
        "            lq = lq - 1 # Diminuo a fila em 1\n",
        "            k2 = k2 + 1\n",
        "            td = t + partidas[k2] # Calculo a proxima partida\n",
        "\n",
        "        else: # Não há pacotes na fila\n",
        "            tp = np.append(tp, t) #Armazeno o tempo da partida\n",
        "            ts = np.append(ts, (tp[k - 1] - tc[k - 1])) # Calculo o tempo no sistema\n",
        "\n",
        "            td = np.infty # Coloco um valor muito grande para a proxima partida\n",
        "            ls = 0 # Esvazio o servidor\n",
        "\n",
        "\n",
        "    t = np.minimum(ta, td) # Calculo o tempo minimo entre chegada e partida\n",
        "\n",
        "tw=np.mean(ts)-1/mu1\n",
        "eq=lambda1*np.mean(ts)\n",
        "ew=lambda1*tw\n",
        "rho=lambda1/mu1\n",
        "#print(\"fator de utilizacao rho\")\n",
        "#print(rho)\n",
        "print(\"Tempo no sistema\")\n",
        "print(np.mean(ts))\n",
        "print(\"tempo na fila\")\n",
        "print(tw)\n",
        "#print(\"numero medio de pacotes no sistema\")\n",
        "#print(eq)\n",
        "#print(\"Numero medio de carros na fila\")\n",
        "#print(ew)"
      ],
      "metadata": {
        "colab": {
          "base_uri": "https://localhost:8080/"
        },
        "id": "J9lNY6mqaM_S",
        "outputId": "2d5d0f43-b503-4f84-a10d-31de8ae9d03d"
      },
      "execution_count": null,
      "outputs": [
        {
          "output_type": "stream",
          "name": "stdout",
          "text": [
            "Tempo no sistema\n",
            "0.016549728860292552\n",
            "tempo na fila\n",
            "0.006549728860292552\n"
          ]
        }
      ]
    }
  ]
}